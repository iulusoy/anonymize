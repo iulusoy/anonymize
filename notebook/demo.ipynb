{
 "cells": [
  {
   "cell_type": "code",
   "execution_count": 8,
   "metadata": {},
   "outputs": [],
   "source": [
    "import mailcom.inout\n",
    "import mailcom.parse\n",
    "import pandas as pd"
   ]
  },
  {
   "cell_type": "code",
   "execution_count": 6,
   "metadata": {},
   "outputs": [
    {
     "name": "stderr",
     "output_type": "stream",
     "text": [
      "Some weights of the model checkpoint at xlm-roberta-large-finetuned-conll03-english were not used when initializing XLMRobertaForTokenClassification: ['roberta.pooler.dense.bias', 'roberta.pooler.dense.weight']\n",
      "- This IS expected if you are initializing XLMRobertaForTokenClassification from the checkpoint of a model trained on another task or with another architecture (e.g. initializing a BertForSequenceClassification model from a BertForPreTraining model).\n",
      "- This IS NOT expected if you are initializing XLMRobertaForTokenClassification from the checkpoint of a model that you expect to be exactly identical (initializing a BertForSequenceClassification model from a BertForSequenceClassification model).\n"
     ]
    }
   ],
   "source": [
    "# import files from /data/in\n",
    "\n",
    "io = mailcom.inout.InoutHandler(\"../mailcom/test/data\")\n",
    "io.list_of_files()\n",
    "\n",
    "# create pseudonymization object\n",
    "ps = mailcom.parse.Pseudonymize()\n",
    "ps.init_spacy(\"fr\")\n",
    "ps.init_transformers()"
   ]
  },
  {
   "cell_type": "code",
   "execution_count": 11,
   "metadata": {},
   "outputs": [
    {
     "name": "stdout",
     "output_type": "stream",
     "text": [
      "Parsing input file C:\\Users\\Felix\\Documents\\GitHub\\mailcom\\mailcom\\test\\data\\Bonjour Agathe.eml\n",
      "Parsing input file C:\\Users\\Felix\\Documents\\GitHub\\mailcom\\mailcom\\test\\data\\Re reunião agendada para o dia 24 de abril 2024-04-17T17_39_49+02 00.eml\n",
      "Parsing input file C:\\Users\\Felix\\Documents\\GitHub\\mailcom\\mailcom\\test\\data\\Re_ purismo.html\n",
      "Parsing input file C:\\Users\\Felix\\Documents\\GitHub\\mailcom\\mailcom\\test\\data\\Re_ ¡Voy el 24!.html\n"
     ]
    }
   ],
   "source": [
    "# loop over mails and pseudonymize them\n",
    "out_list = []\n",
    "for file in io.email_list:\n",
    "    print(\"Parsing input file {}\".format(file))\n",
    "    # creating dict\n",
    "    email_dict = {}\n",
    "    text = io.get_text(file)\n",
    "    text = io.get_html_text(text)\n",
    "    if not text:\n",
    "        continue\n",
    "    # Test functionality of Pseudonymize class\n",
    "    output_text = ps.pseudonymize(text)\n",
    "    email_dict[\"content\"] = text\n",
    "    email_dict[\"pseudo_content\"] = output_text\n",
    "    out_list.append(email_dict)\n"
   ]
  },
  {
   "cell_type": "code",
   "execution_count": 12,
   "metadata": {},
   "outputs": [
    {
     "name": "stdout",
     "output_type": "stream",
     "text": [
      "                                             content  \\\n",
      "0  J'espère que tu vas bien! Je voulais partager ...   \n",
      "1  \\nOlá Lino,Espero que este e-mail te encontre ...   \n",
      "2  From : aitana.garcia@zohomail.euTo : \"Alejandr...   \n",
      "3  From : pierre.lefevre@myyahoo.comTo : \"Alejand...   \n",
      "\n",
      "                                      pseudo_content  \n",
      "0  J'espère que tu vas bien! Je voulais partager ...  \n",
      "1  \\n Olá Claude,Espero que este e-mail te encont...  \n",
      "2  From : Claude.Dominique@xxxxxxxx.xxTo : \"Claud...  \n",
      "3  From : Claude.Dominique@myxxxxx.comTo : \" Clau...  \n"
     ]
    }
   ],
   "source": [
    "# write output to pandas df\n",
    "df = pd.DataFrame(out_list)\n",
    "print(df)"
   ]
  },
  {
   "cell_type": "code",
   "execution_count": null,
   "metadata": {},
   "outputs": [],
   "source": []
  }
 ],
 "metadata": {
  "kernelspec": {
   "display_name": "mailcom",
   "language": "python",
   "name": "python3"
  },
  "language_info": {
   "codemirror_mode": {
    "name": "ipython",
    "version": 3
   },
   "file_extension": ".py",
   "mimetype": "text/x-python",
   "name": "python",
   "nbconvert_exporter": "python",
   "pygments_lexer": "ipython3",
   "version": "3.11.10"
  }
 },
 "nbformat": 4,
 "nbformat_minor": 2
}
