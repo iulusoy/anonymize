{
 "cells": [
  {
   "cell_type": "code",
   "execution_count": 1,
   "metadata": {},
   "outputs": [
    {
     "name": "stderr",
     "output_type": "stream",
     "text": [
      "c:\\Users\\Felix\\miniconda3\\envs\\mailcom\\Lib\\site-packages\\tqdm\\auto.py:21: TqdmWarning: IProgress not found. Please update jupyter and ipywidgets. See https://ipywidgets.readthedocs.io/en/stable/user_install.html\n",
      "  from .autonotebook import tqdm as notebook_tqdm\n"
     ]
    }
   ],
   "source": [
    "import mailcom.inout\n",
    "import mailcom.parse\n",
    "import pandas as pd"
   ]
  },
  {
   "cell_type": "code",
   "execution_count": 2,
   "metadata": {},
   "outputs": [
    {
     "name": "stderr",
     "output_type": "stream",
     "text": [
      "Some weights of the model checkpoint at xlm-roberta-large-finetuned-conll03-english were not used when initializing XLMRobertaForTokenClassification: ['roberta.pooler.dense.bias', 'roberta.pooler.dense.weight']\n",
      "- This IS expected if you are initializing XLMRobertaForTokenClassification from the checkpoint of a model trained on another task or with another architecture (e.g. initializing a BertForSequenceClassification model from a BertForPreTraining model).\n",
      "- This IS NOT expected if you are initializing XLMRobertaForTokenClassification from the checkpoint of a model that you expect to be exactly identical (initializing a BertForSequenceClassification model from a BertForSequenceClassification model).\n"
     ]
    }
   ],
   "source": [
    "# import files from /data/in\n",
    "\n",
    "io = mailcom.inout.InoutHandler(\"../mailcom/test/data\")\n",
    "io.list_of_files()\n",
    "\n",
    "# create pseudonymization object\n",
    "ps = mailcom.parse.Pseudonymize()\n",
    "ps.init_spacy(\"fr\")\n",
    "ps.init_transformers()"
   ]
  },
  {
   "cell_type": "code",
   "execution_count": 3,
   "metadata": {},
   "outputs": [
    {
     "name": "stdout",
     "output_type": "stream",
     "text": [
      "Parsing input file C:\\Users\\Felix\\Documents\\GitHub\\mailcom\\mailcom\\test\\data\\Bonjour Agathe.eml\n",
      "Parsing input file C:\\Users\\Felix\\Documents\\GitHub\\mailcom\\mailcom\\test\\data\\Re reunião agendada para o dia 24 de abril 2024-04-17T17_39_49+02 00.eml\n",
      "Parsing input file C:\\Users\\Felix\\Documents\\GitHub\\mailcom\\mailcom\\test\\data\\Re_ purismo.html\n",
      "Parsing input file C:\\Users\\Felix\\Documents\\GitHub\\mailcom\\mailcom\\test\\data\\Re_ ¡Voy el 24!.html\n"
     ]
    }
   ],
   "source": [
    "# loop over mails and pseudonymize them\n",
    "out_list = []\n",
    "for file in io.email_list:\n",
    "    print(\"Parsing input file {}\".format(file))\n",
    "    text = io.get_text(file)\n",
    "    # after this function was called, the email metadata can be accessed via io.email_content\n",
    "    # the dict already has the entries content, date, attachments, attachment type\n",
    "    email_dict = io.email_content.copy()\n",
    "    text = io.get_html_text(text)\n",
    "    if not text:\n",
    "        continue\n",
    "    # Test functionality of Pseudonymize class\n",
    "    output_text = ps.pseudonymize(text)\n",
    "    email_dict[\"pseudo_content\"] = output_text\n",
    "    out_list.append(email_dict)\n"
   ]
  },
  {
   "cell_type": "code",
   "execution_count": 4,
   "metadata": {},
   "outputs": [],
   "source": [
    "# write output to pandas df\n",
    "df = pd.DataFrame(out_list)"
   ]
  },
  {
   "cell_type": "code",
   "execution_count": 5,
   "metadata": {},
   "outputs": [
    {
     "name": "stdout",
     "output_type": "stream",
     "text": [
      "Email 0\n",
      "Original Text:\n",
      " J'espère que tu vas bien! Je voulais partager avec toi quelques photos de mon dernier voyage!\n",
      "[Inline-Bild]\n",
      "\n",
      "[Inline-Bild]\n",
      "\n",
      "À bientôt,\n",
      "\n",
      "Pierre\n",
      "\n",
      "Pseudonymized Text:\n",
      " J'espère que tu vas bien! Je voulais partager avec toi quelques photos de mon dernier voyage!\n",
      "[Inline-Bild]\n",
      "\n",
      "[Inline-Bild]\n",
      "\n",
      "À bientôt,\n",
      "\n",
      "Claude\n",
      "\n",
      "Email 1\n",
      "Original Text:\n",
      " <html><head></head><body><div class=\"ydp9a5bdb1ayahoo-style-wrap\" style=\"font-family:Helvetica Neue, Helvetica, Arial, sans-serif;font-size:16px;\"><div></div>\n",
      "        <div><div><p style=\"border: 0px solid rgb(227, 227, 227); margin: 1.25em 0px; color: rgb(13, 13, 13); font-family: ui-sans-serif, system-ui, -apple-system, Segoe UI, Roboto, Ubuntu, Cantarell, Noto Sans, sans-serif, Helvetica Neue, Arial, Apple Color Emoji, Segoe UI Emoji, Segoe UI Symbol, Noto Color Emoji; font-size: 16px;\">Olá Lino,</p><p style=\"border: 0px solid rgb(227, 227, 227); margin: 1.25em 0px; color: rgb(13, 13, 13); font-family: ui-sans-serif, system-ui, -apple-system, Segoe UI, Roboto, Ubuntu, Cantarell, Noto Sans, sans-serif, Helvetica Neue, Arial, Apple Color Emoji, Segoe UI Emoji, Segoe UI Symbol, Noto Color Emoji; font-size: 16px;\">Espero que este e-mail te encontre bem. Agradeço a confirmação de sua presença na reunião do dia 24 de abril às 15:00 na InnovaTech Solutions.</p><p style=\"border: 0px solid rgb(227, 227, 227); margin: 1.25em 0px; color: rgb(13, 13, 13); font-family: ui-sans-serif, system-ui, -apple-system, Segoe UI, Roboto, Ubuntu, Cantarell, Noto Sans, sans-serif, Helvetica Neue, Arial, Apple Color Emoji, Segoe UI Emoji, Segoe UI Symbol, Noto Color Emoji; font-size: 16px;\">Com relação à confirmação dos demais membros da equipe, irei verificar a disponibilidade de cada um e te retorno o mais breve possível para que possamos organizar todos os detalhes necessários. A relevância dos temas a serem discutidos para cada área certamente contribuirá para uma sessão produtiva.</p><p style=\"border: 0px solid rgb(227, 227, 227); margin: 1.25em 0px; color: rgb(13, 13, 13); font-family: ui-sans-serif, system-ui, -apple-system, Segoe UI, Roboto, Ubuntu, Cantarell, Noto Sans, sans-serif, Helvetica Neue, Arial, Apple Color Emoji, Segoe UI Emoji, Segoe UI Symbol, Noto Color Emoji; font-size: 16px;\">Até breve,</p><p style=\"border: 0px solid rgb(227, 227, 227); margin: 1.25em 0px 0px; color: rgb(13, 13, 13); font-family: ui-sans-serif, system-ui, -apple-system, Segoe UI, Roboto, Ubuntu, Cantarell, Noto Sans, sans-serif, Helvetica Neue, Arial, Apple Color Emoji, Segoe UI Emoji, Segoe UI Symbol, Noto Color Emoji; font-size: 16px;\">[Alejandro Rodriguez]\n",
      "InnovaTech Solutions S.L</p></div><br></div><div><br></div>\n",
      "\n",
      "        </div><div id=\"ydpfe282341yahoo_quoted_3741020503\" class=\"ydpfe282341yahoo_quoted\">\n",
      "            <div style=\"font-family:'Helvetica Neue', Helvetica, Arial, sans-serif;font-size:13px;color:#26282a;\">\n",
      "\n",
      "                <div>\n",
      "                        Am Mittwoch, 17. April 2024 um 17:30:19 MESZ hat lino.silva1 &lt;lino.silva1@protonmail.com&gt; Folgendes geschrieben:\n",
      "                    </div>\n",
      "                    <div><br></div>\n",
      "                    <div><br></div>\n",
      "\n",
      "\n",
      "                <div><div id=\"ydpfe282341yiv9486275963\"><div style=\"font-family:Arial, sans-serif;font-size:14px;\"><span>Espero que este e-mail o encontre bem. Escrevo para confirmar minha presença na reunião agendada para o dia 24 de abril, às 15:00, nas instalações da InnovaTech Solutions, localizada na Rua Principal, 123.</span><div><br></div><div><span>Agradeceria se pudesse confirmar a participação das seguintes pessoas de nossa equipe, uma vez que os temas a serem discutidos são relevantes para suas respectivas áreas:</span></div><div><br></div><div><span>- Alessandra Acquarone (Secretária Executiva)</span></div><div><span>- Dr. Giulia Agostini (Literatura Francesa/Italiana/Espanhola)</span></div><div><span>- Meggi Altrock (Secretária do Prof. Dr. De Stefani)</span></div><div><span>- Felicia Augusto-Hönicke (Assistente Acadêmica em Prática de Língua Portuguesa)</span></div><div><span>- Ronny Beckert (Assistente Acadêmico)</span></div><div><span>- Dr. Gérald Béreiziat (Professor de Prática da Língua Francesa)</span></div><div><span>- Dr. Stephanie Béreiziat-Lang (Substituição de Cadeira em Literatura Espanhola)</span></div><div><br></div><div><span>- Ursula Bergerfurth (Didática do Italiano)</span></div><div><span>- Maylis Bonetti (Professora de Prática da Língua Francesa)</span></div><div><span>- Dr. Sarah Burnautzki (Professora Tenure-Track em Literatura Francesa/Espanhola)</span></div><div><span>- Constanza Cárdenas (Instrutora de Prática da Língua Espanhola)</span></div><div><span>- Dr. Romanita Constantinescu (Professor de Romeno da Fundação)</span></div><div><span>- Ricardo Coseano (Assistente Acadêmico em Prática da Língua Espanhola)</span></div><div><span>- Prof. Dr. Elwys De Stefani (Cadeira de Linguística Italiana/Francesa)</span></div><div><br></div><div><span>- Brigitta Dierkes (Didática do Espanhol)</span></div><div><span>- Annachiara Di Taranto (Professora de Prática da Língua Italiana)</span></div><div><span>- Agathe Duperron (Secretária do Prof. Große)</span></div><div><span>- Madeleine Eppel (Responsável pelo Catálogo de Cursos e Matrículas)</span></div><div><span>- José Esplá-Oliver (Assistente Acadêmico em Prática da Língua Espanhola)</span></div><div><span>- Dr. Carmela Fischer Díaz (Instrutora de Prática da Língua Espanhola)</span></div><div><span>- Sandrine Flores (Assistente Acadêmica em Prática da Língua Francesa)</span></div><div><span>- Prof. Dr. Robert Folger (Cadeira de Literatura Espanhola)</span></div><div><br></div><div><span>Fico no aguardo da sua confirmação para prosseguir com os preparativos necessários.</span></div><div><br></div><div><span>Atenciosamente,</span></div><div><br></div><span>Lino Silva</span><br></div><div style=\"font-family:Arial, sans-serif;font-size:14px;\"><img alt=\"grafik.png\" src=\"cid:azpS25N9TuqkOfTuVl10\" class=\"ydpfe282341yiv9486275963proton-embedded\" data-inlineimagemanipulating=\"true\" data-id=\"1713368380006\"><br></div>\n",
      "<div style=\"font-family:Arial, sans-serif;font-size:14px;\" class=\"ydpfe282341yiv9486275963protonmail_signature_block\">\n",
      "    <div class=\"ydpfe282341yiv9486275963protonmail_signature_block-user ydpfe282341yiv9486275963protonmail_signature_block-empty\">\n",
      "\n",
      "            </div>\n",
      "\n",
      "            <div class=\"ydpfe282341yiv9486275963protonmail_signature_block-proton\">\n",
      "        Sicher versendet mit <a href=\"https://proton.me/\" rel=\"nofollow\" target=\"_blank\">Proton Mail</a>.\n",
      "    </div>\n",
      "</div>\n",
      "</div></div>\n",
      "            </div>\n",
      "        </div></body></html>\n",
      "Pseudonymized Text:\n",
      " \n",
      " Olá Claude,Espero que este e-mail te encontre bem. Agradeço a confirmação de sua presença na reunião do dia [number] de abril às [number]:[number] na [organization] Solutions . Com relação à confirmação dos demais membros da equipe, irei verificar a disponibilidade de cada um e te retorno o mais breve possível para que possamos organizar todos os detalhes necessários. A relevância dos temas a serem discutidos para cada área certamente contribuirá para uma sessão produtiva. Até breve,Dominique Claude ]\n",
      "[organization] Solutions [organization].[organization]\n",
      "\n",
      "\n",
      "\n",
      "                         Am Mittwoch, [number]. April [number] um [number]:[number]:[number] [misc] hat Camille [email] Folgendes geschrieben:\n",
      "                    \n",
      "\n",
      "\n",
      "Espero que este e-mail o encontre bem. Escrevo para confirmar minha presença na reunião agendada para o dia [number] de abril, às [number]:[number], nas instalações da [organization] Solutions , localizada na [location] , [number].Agradeceria se pudesse confirmar a participação das seguintes pessoas de nossa equipe, uma vez que os temas a serem discutidos são relevantes para suas respectivas áreas:- Charlie (Secretária Executiva)- Dr. Florence (Literatura [misc]/[misc]/[misc])- [organization] Francis (Secretária do Prof. Dr. Maxime)- Remy (Assistente Acadêmica em Prática de [misc])- Cécile ( Assistente Acadêmico)- Dr. Claude ([misc]ofessor de [misc][organization] [misc])- DrClaude - Lang ( Substituição de Cadeira em Literatura [misc])- Claude (Didática do [misc]no)- Claude (Professora de Prática da Língua [misc])- Dr. Claude (Professora Tenure-Track em Literatura [misc])- Claude (Instrutora de Prática da Língua [misc])- Dr. Claude (Professor de [misc][location] da Fundação)- Ricardo Cosea[location] (Assistente Acadêmico em Prática da Língua [misc])- Prof. Dr[organization] Claude ([organization])- Claude Claude (Didática do [misc])- Claude [location] Claude (Professora de Prática da Língua [misc])- Claude (Secretária do Prof. Große)- Claude (Responsável pelo Catálogo de Cursos e Matrículas)- Claude -Claude ( Assistente Acadêmico em Prática da Língua [misc])- Dr. Claude (Instrutora de Prática da Língua [misc])- Claude (Assistente Acadêmica em Prática da Língua [misc])- Prof . Dr. Claude ([organization])Fico no aguardo da sua confirmação para prosseguir com os preparativos necessários. Atenciosamente,Lino Silva\n",
      "\n",
      "\n",
      "\n",
      "\n",
      "        Sicher versendet mit [misc][organization].\n",
      "    \n",
      "\n",
      "\n",
      "\n",
      "\n",
      "Email 2\n",
      "Original Text:\n",
      " <div style=\"font-size: 10pt; font-family: Verdana, Arial, Helvetica, sans-serif\"><div>From : aitana.garcia@zohomail.eu<br />To : \"Alejandro Rodriguez\"< alejandro.rodriguez1@gmx.net><br />Date : mié., 17 abr. 2024 17:24:41 +0200<br />Subject : Re: purismo<br /></div><br /><meta content=\"text/html;charset=UTF-8\" /><div><div style=\"font-family: Verdana, Arial, Helvetica, sans-serif; font-size: 10pt\"><div>Muchas gracias!</div><div><br /></div><div id=\"x_2079520583Zm-_Id_-Sgn\"><p><span class=\"x_2079520583colour\" style=\"color: rgb(42, 42, 42)\">Sent using <a style=\"color: rgb(89, 143, 222)\" target=\"_blank\">Zoho Mail</a></span><br /></p></div><div><br /></div><div class=\"x_2079520583zmail_extra_hr\" style=\"border-top: 1px solid rgb(204, 204, 204); min-height: 0px; margin-top: 10px; margin-bottom: 10px; line-height: 0px\"><br /></div><div class=\"x_2079520583zmail_extra\"><div><br /></div><div id=\"x_2079520583Zm-_Id_-Sgn1\">---- El mié., 17 abr. 2024 17:22:49 +0200, <b>Alejandro Rodriguez &lt;<a href=\"mailto:alejandro.rodriguez1@gmx.net\" target=\"_blank\">alejandro.rodriguez1@gmx.net</a>&gt;</b> escribió ----<br /></div><div><br /></div><blockquote id=\"x_2079520583blockquote_zmail\" style=\"margin: 0px\"><div><div style=\"font-family: Verdana; font-size: 12px\"><div>Hola, aquí tienes el escaneo ;) Saludos, Aitana<br /></div></div></div></blockquote></div></div><br /></div>\n",
      "Pseudonymized Text:\n",
      " From : [email] : \"Claude\"< [email] : mié. , [number] abr. [number] [number]:[number]:[number] +[number]Subject : Re: purismoMuchas gracias!Sent using [organization] El mié. , [number] abr. [number] [number]:[number]:[number] +[number], Claude [email] escribió ----Hola, aquí tienes el escaneo ;) Saludos, Dominique\n",
      "Email 3\n",
      "Original Text:\n",
      " <div style=\"font-size: 10pt; font-family: Verdana, Arial, Helvetica, sans-serif\"><div>From : pierre.lefevre@myyahoo.com<br />To : \"Alejandro Rodriguez\"< alejandro.rodriguez1@gmx.net>,\"Aitana Garcia\"< aitana.garcia@zohomail.eu><br />Date : mié., 17 abr. 2024 17:33:23 +0200<br />Subject : Re: ¡Voy el 24!<br /></div><br /><div><div class=\"x_311260360ydpb1d7201eyahoo-style-wrap\" style=\"font-family: Helvetica Neue, Helvetica, Arial, sans-serif; font-size: 16px\"><div></div>\n",
      "        <div><div><p style=\"border: 0px solid rgb(227, 227, 227); margin: 1.25em 0px; color: rgb(13, 13, 13); font-family: ui-sans-serif, system-ui, -apple-system, Segoe UI, Roboto, Ubuntu, Cantarell, Noto Sans, sans-serif, Helvetica Neue, Arial, Apple Color Emoji, Segoe UI Emoji, Segoe UI Symbol, Noto Color Emoji; font-size: 16px\">Salut Aitana,</p><p style=\"border: 0px solid rgb(227, 227, 227); margin: 1.25em 0px; color: rgb(13, 13, 13); font-family: ui-sans-serif, system-ui, -apple-system, Segoe UI, Roboto, Ubuntu, Cantarell, Noto Sans, sans-serif, Helvetica Neue, Arial, Apple Color Emoji, Segoe UI Emoji, Segoe UI Symbol, Noto Color Emoji; font-size: 16px\">Merci beaucoup pour l'invitation ! Je suis ravi d'apprendre que je pourrai vous rejoindre pour la réunion du 24 à 15h. Cela sera une excellente occasion de rencontrer l'équipe et de discuter des projets en cours.</p><p style=\"border: 0px solid rgb(227, 227, 227); margin: 1.25em 0px; color: rgb(13, 13, 13); font-family: ui-sans-serif, system-ui, -apple-system, Segoe UI, Roboto, Ubuntu, Cantarell, Noto Sans, sans-serif, Helvetica Neue, Arial, Apple Color Emoji, Segoe UI Emoji, Segoe UI Symbol, Noto Color Emoji; font-size: 16px\">N'hésite pas à me dire s'il y a des documents spécifiques que je devrais consulter avant la réunion ou si tu veux que je prépare quelque chose de particulier. Je suis tout à fait disposé à contribuer de manière constructive à notre discussion.</p><p style=\"border: 0px solid rgb(227, 227, 227); margin: 1.25em 0px; color: rgb(13, 13, 13); font-family: ui-sans-serif, system-ui, -apple-system, Segoe UI, Roboto, Ubuntu, Cantarell, Noto Sans, sans-serif, Helvetica Neue, Arial, Apple Color Emoji, Segoe UI Emoji, Segoe UI Symbol, Noto Color Emoji; font-size: 16px\">À très bientôt et encore merci de m'avoir inclus.</p><p style=\"border: 0px solid rgb(227, 227, 227); margin: 1.25em 0px 0px; color: rgb(13, 13, 13); font-family: ui-sans-serif, system-ui, -apple-system, Segoe UI, Roboto, Ubuntu, Cantarell, Noto Sans, sans-serif, Helvetica Neue, Arial, Apple Color Emoji, Segoe UI Emoji, Segoe UI Symbol, Noto Color Emoji; font-size: 16px\">Bien cordialement,\n",
      "Pierre</p></div><br /></div><div><br /></div>\n",
      "        \n",
      "        </div><div id=\"x_311260360yahoo_quoted_4096768682\" class=\"x_311260360yahoo_quoted\">\n",
      "            <div style=\"font-family: &quot;Helvetica Neue&quot;, Helvetica, Arial, sans-serif; font-size: 13px; color: rgb(38, 40, 42)\">\n",
      "                \n",
      "                <div>\n",
      "                        Am Mittwoch, 17. April 2024 um 17:31:14 MESZ hat Aitana Garcia &lt;<a href=\"mailto:aitana.garcia@zohomail.eu\" target=\"_blank\">aitana.garcia@zohomail.eu</a>&gt; Folgendes geschrieben:\n",
      "                    </div>\n",
      "                    <div><br /></div>\n",
      "                    <div><br /></div>\n",
      "                \n",
      "                \n",
      "                <div><div id=\"x_311260360yiv3804479819\"><div><div style=\"font-family: Verdana, Arial, Helvetica, sans-serif; font-size: 10pt\"><div>Ah, y me gustaría invitar a mi amigo Pierre, él está en el CC<br /></div><div><br /></div><div id=\"x_311260360yiv3804479819Zm-_Id_-Sgn\"><p><span style=\"color: rgb(42, 42, 42)\" class=\"x_311260360yiv3804479819colour\">Sent using <a style=\"color: rgb(89, 143, 222)\">Zoho Mail</a></span><br /></p></div><div><br /></div><div style=\"border-top: 1px solid rgb(204, 204, 204); min-height: 0px; margin-top: 10px; margin-bottom: 10px; line-height: 0px\" class=\"x_311260360yiv3804479819zmail_extra_hr\"><br /></div><div class=\"x_311260360yiv3804479819zmail_extra\"><div><br /></div><div id=\"x_311260360yiv3804479819Zm-_Id_-Sgn1\">---- El mié., 17 abr. 2024 17:27:12 +0200, <b>Aitana Garcia &lt;<a href=\"mailto:aitana.garcia@zohomail.eu\" target=\"_blank\">aitana.garcia@zohomail.eu</a>&gt;</b> escribió ----<br /></div><div><br /></div><blockquote id=\"x_311260360yiv3804479819blockquote_zmail\" style=\"margin: 0px\"><div><div style=\"font-family: Verdana, Arial, Helvetica, sans-serif; font-size: 10pt\"><div>Hola Ale,<br /></div><p style=\"border: 0px solid rgb(227, 227, 227)\">¡Todo bien por aquí! Solo pasaba a decirte que contarás conmigo el 24 a las 3 en la ofi. ¿Hay algo que deba llevar o algún tema en particular que quieras que cheque antes?<br /></p><p style=\"border: 0px solid rgb(227, 227, 227)\">¡Nos vemos!\n",
      "Aitana<br /></p><div class=\"x_311260360yiv3804479819x_687987135zmail_signature_below\"><div id=\"x_311260360yiv3804479819\"><p><span style=\"color: rgb(42, 42, 42)\" class=\"x_311260360yiv3804479819colour\">Sent using <a style=\"color: rgb(89, 143, 222)\">Zoho Mail</a></span><br /></p></div></div><div><br /></div></div><br /></div></blockquote></div><div><br /></div></div><br /></div></div></div>\n",
      "            </div>\n",
      "        </div></div>\n",
      "Pseudonymized Text:\n",
      " From : [email] : \" Claude\"< [email] Dominique\"< [email] >Date : mié. , [number] abr. [number] [number]:[number]:[number] +[number]Subject : Re: ¡Voy el [number]!\n",
      "Salut Claude,Merci beaucoup pour l'invitation ! Je suis ravi d'apprendre que je pourrai vous rejoindre pour la réunion du [number] à [number]h. Cela sera une excellente occasion de rencontrer l'équipe et de discuter des projets en cours. N'hésite pas à me dire s'il y a des documents spécifiques que je devrais consulter avant la réunion ou si tu veux que je prépare quelque chose de particulier. Je suis tout à fait disposé à contribuer de manière constructive à notre discussion. À très bientôt et encore merci de m'avoir inclus. Bien cordialement,\n",
      "Pierre\n",
      "\n",
      "\n",
      "\n",
      "                        Am Mittwoch, [number] . April [number] um [number]:[number]:[number] [misc] hat Charlie [email] > Folgendes geschrieben:\n",
      "                    \n",
      "\n",
      "\n",
      "Ah, y me gustaría invitar a mi amigo Florence, él está en el [organization] using [misc]---- El mié. , [number] abr. [number] [number]:[number]:[number] +[number], Charlie [email] escribió ----Hola Francis,¡Todo bien por aquí! Solo pasaba a decirte que contarás conmigo el [number] a las [number] en la ofi. ¿ Hay algo que deba llevar o algún tema en particular que quieras que cheque antes?¡Nos vemos!\n",
      "ClaudeSent using [organization]\n",
      "\n",
      "\n"
     ]
    }
   ],
   "source": [
    "# print results\n",
    "for idx, mail in df.iterrows():\n",
    "    print(\"Email\", idx)\n",
    "    print(\"Original Text:\\n\", mail[\"content\"])\n",
    "    print(\"Pseudonymized Text:\\n\", mail[\"pseudo_content\"])\t"
   ]
  },
  {
   "cell_type": "code",
   "execution_count": null,
   "metadata": {},
   "outputs": [],
   "source": []
  }
 ],
 "metadata": {
  "kernelspec": {
   "display_name": "mailcom",
   "language": "python",
   "name": "python3"
  },
  "language_info": {
   "codemirror_mode": {
    "name": "ipython",
    "version": 3
   },
   "file_extension": ".py",
   "mimetype": "text/x-python",
   "name": "python",
   "nbconvert_exporter": "python",
   "pygments_lexer": "ipython3",
   "version": "3.11.10"
  }
 },
 "nbformat": 4,
 "nbformat_minor": 2
}
