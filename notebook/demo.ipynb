{
 "cells": [
  {
   "cell_type": "code",
   "execution_count": 1,
   "metadata": {},
   "outputs": [
    {
     "name": "stderr",
     "output_type": "stream",
     "text": [
      "c:\\Users\\Felix\\miniconda3\\envs\\mailcom\\Lib\\site-packages\\tqdm\\auto.py:21: TqdmWarning: IProgress not found. Please update jupyter and ipywidgets. See https://ipywidgets.readthedocs.io/en/stable/user_install.html\n",
      "  from .autonotebook import tqdm as notebook_tqdm\n"
     ]
    }
   ],
   "source": [
    "import mailcom.inout\n",
    "import mailcom.parse\n",
    "import pandas as pd\n",
    "from IPython.display import display, HTML"
   ]
  },
  {
   "cell_type": "code",
   "execution_count": 2,
   "metadata": {},
   "outputs": [
    {
     "name": "stderr",
     "output_type": "stream",
     "text": [
      "Some weights of the model checkpoint at xlm-roberta-large-finetuned-conll03-english were not used when initializing XLMRobertaForTokenClassification: ['roberta.pooler.dense.bias', 'roberta.pooler.dense.weight']\n",
      "- This IS expected if you are initializing XLMRobertaForTokenClassification from the checkpoint of a model trained on another task or with another architecture (e.g. initializing a BertForSequenceClassification model from a BertForPreTraining model).\n",
      "- This IS NOT expected if you are initializing XLMRobertaForTokenClassification from the checkpoint of a model that you expect to be exactly identical (initializing a BertForSequenceClassification model from a BertForSequenceClassification model).\n"
     ]
    }
   ],
   "source": [
    "# import files from /data/in\n",
    "\n",
    "io = mailcom.inout.InoutHandler(\"../mailcom/test/data\")\n",
    "io.list_of_files()\n",
    "\n",
    "# create pseudonymization object\n",
    "ps = mailcom.parse.Pseudonymize()\n",
    "ps.init_spacy(\"fr\")\n",
    "ps.init_transformers()"
   ]
  },
  {
   "cell_type": "code",
   "execution_count": 20,
   "metadata": {},
   "outputs": [],
   "source": [
    "# function for displaying the result using HTML\n",
    "def highlight_ne(text, per_list, org_list, loc_list, misc_list):\n",
    "    # highlight PER\n",
    "    for loc in loc_list:\n",
    "        text = text.replace(loc, \"<span style=\\\"background-color:green\\\">\" + loc + \"</span>\")\n",
    "    for org in org_list:\n",
    "        text = text.replace(org, \"<span style=\\\"background-color:blue\\\">\" + org + \"</span>\")\n",
    "    for misc in misc_list:\n",
    "        text = text.replace(misc, \"<span style=\\\"background-color:yellow\\\">\" + misc + \"</span>\")\n",
    "    for per in per_list:\n",
    "        text = text.replace(per, \"<span style=\\\"background-color:red\\\">\" + per + \"</span>\")\n",
    "    return text"
   ]
  },
  {
   "cell_type": "code",
   "execution_count": 22,
   "metadata": {},
   "outputs": [
    {
     "name": "stdout",
     "output_type": "stream",
     "text": [
      "Parsing input file C:\\Users\\Felix\\Documents\\GitHub\\mailcom\\mailcom\\test\\data\\Bonjour Agathe.eml\n"
     ]
    },
    {
     "data": {
      "text/html": [
       "J'espère que tu vas bien! Je voulais partager avec toi quelques photos de mon dernier voyage!\r\n",
       "[Inline-Bild]\r\n",
       "\r\n",
       "[Inline-Bild]\r\n",
       "\r\n",
       "À bientôt,\r\n",
       "\r\n",
       "<span style=\"background-color:red\">Pierre</span>\r\n"
      ],
      "text/plain": [
       "<IPython.core.display.HTML object>"
      ]
     },
     "metadata": {},
     "output_type": "display_data"
    },
    {
     "name": "stdout",
     "output_type": "stream",
     "text": [
      "Parsing input file C:\\Users\\Felix\\Documents\\GitHub\\mailcom\\mailcom\\test\\data\\Re reunião agendada para o dia 24 de abril 2024-04-17T17_39_49+02 00.eml\n"
     ]
    },
    {
     "data": {
      "text/html": [
       "\n",
       "Olá <span style=\"background-color:blue\">L</span>i<span style=\"background-color:green\">no</span>,Espero que este e-mail te encontre bem<span style=\"background-color:blue\">.</span> Agradeço a confirmação de sua presença na reunião do dia 24 de abril às 15:00 na In<span style=\"background-color:green\">no</span>vaTech <span style=\"background-color:blue\">S</span>olutions<span style=\"background-color:blue\">.</span>Com relação à confirmação dos demais membros da equipe, irei verificar a disponibilidade de cada um e te retor<span style=\"background-color:green\">no</span> o mais breve possível para que possamos organizar todos os detalhes necessários<span style=\"background-color:blue\">.</span> A relevância dos temas a serem discutidos para cada área certamente contribuirá para uma sessão produtiva<span style=\"background-color:blue\">.</span>Até breve,<span style=\"background-color:red\">[Alejandro</span> <span style=\"background-color:red\">Rodriguez</span>]\n",
       "In<span style=\"background-color:green\">no</span>vaTech <span style=\"background-color:blue\">S</span>olutions <span style=\"background-color:blue\">S</span><span style=\"background-color:blue\">.</span><span style=\"background-color:blue\">L</span>\n",
       "\n",
       "\n",
       "\n",
       "                        Am Mittwoch, 17<span style=\"background-color:blue\">.</span> April 2024 um 17:30:19 ME<span style=\"background-color:blue\">S</span>Z hat li<span style=\"background-color:green\">no</span><span style=\"background-color:blue\">.</span>silva1 <li<span style=\"background-color:green\">no</span><span style=\"background-color:blue\">.</span>silva1@protonmail<span style=\"background-color:blue\">.</span>com> Folgendes geschrieben:\n",
       "                    \n",
       "\n",
       "\n",
       "Espero que este e-mail o encontre bem<span style=\"background-color:blue\">.</span> Escrevo para confirmar minha presença na reunião agendada para o dia 24 de abril, às 15:00, nas instalações da In<span style=\"background-color:green\">no</span>vaTech <span style=\"background-color:blue\">S</span>olutions, localizada na <span style=\"background-color:green\">Rua <span style=\"background-color:yellow\">Pr</span>incipal</span>, 123<span style=\"background-color:blue\">.</span>Agradeceria se pudesse confirmar a participação das seguintes pessoas de <span style=\"background-color:green\">no</span>ssa equipe, uma vez que os temas a serem discutidos são relevantes para suas respectivas áreas:- <span style=\"background-color:red\">Alessandra Acquarone</span> (<span style=\"background-color:blue\">S</span>ecretária Executiva)- Dr<span style=\"background-color:blue\">.</span> <span style=\"background-color:red\">Giulia Agostini</span> (<span style=\"background-color:blue\">L</span>iteratura <span style=\"background-color:yellow\"><span style=\"background-color:yellow\"><span style=\"background-color:yellow\">Francesa</span></span></span>/<span style=\"background-color:yellow\"><span style=\"background-color:yellow\">Italia</span>na</span>/<span style=\"background-color:yellow\"><span style=\"background-color:yellow\"><span style=\"background-color:yellow\"><span style=\"background-color:yellow\"><span style=\"background-color:yellow\">Espanhol</span>a</span></span></span></span>)- <span style=\"background-color:blue\">Meggi</span> <span style=\"background-color:red\">Altrock</span> (<span style=\"background-color:blue\">S</span>ecretária do <span style=\"background-color:yellow\">Pr</span>of<span style=\"background-color:blue\">.</span> Dr<span style=\"background-color:blue\">.</span> De <span style=\"background-color:blue\">S</span>tefani)- <span style=\"background-color:red\">Felicia Augusto-Hönicke</span> (Assistente Acadêmica em <span style=\"background-color:yellow\">Pr</span>ática de <span style=\"background-color:blue\">L</span>íngua Portuguesa)- <span style=\"background-color:red\">Ronny Beckert</span> (Assistente Acadêmico)- Dr<span style=\"background-color:blue\">.</span> <span style=\"background-color:red\">Gérald Béreiziat</span> (<span style=\"background-color:yellow\">Pr</span>ofessor de <span style=\"background-color:yellow\">Pr</span><span style=\"background-color:blue\">ática da</span> <span style=\"background-color:blue\">L</span>íngua <span style=\"background-color:yellow\"><span style=\"background-color:yellow\"><span style=\"background-color:yellow\">Francesa</span></span></span>)- Dr<span style=\"background-color:blue\">.</span> <span style=\"background-color:blue\">S</span>tephanie Béreiziat-<span style=\"background-color:blue\">L</span>ang (<span style=\"background-color:blue\">S</span>ubstituição de Cadeira em <span style=\"background-color:blue\">L</span>iteratura <span style=\"background-color:yellow\"><span style=\"background-color:yellow\"><span style=\"background-color:yellow\"><span style=\"background-color:yellow\"><span style=\"background-color:yellow\">Espanhol</span>a</span></span></span></span>)- <span style=\"background-color:red\">Ursula Bergerfurth</span> (<span style=\"background-color:green\">Di</span>dática do <span style=\"background-color:yellow\">Italia</span><span style=\"background-color:green\">no</span>)- <span style=\"background-color:red\">Maylis Bonetti</span> (<span style=\"background-color:yellow\">Pr</span>ofessora de <span style=\"background-color:yellow\">Pr</span><span style=\"background-color:blue\">ática da</span> <span style=\"background-color:blue\">L</span>íngua <span style=\"background-color:yellow\"><span style=\"background-color:yellow\"><span style=\"background-color:yellow\">Francesa</span></span></span>)- Dr<span style=\"background-color:blue\">.</span> <span style=\"background-color:blue\">S</span>arah Burnautzki (<span style=\"background-color:yellow\">Pr</span>ofessora Tenure-Track em <span style=\"background-color:blue\">L</span>iteratura <span style=\"background-color:yellow\"><span style=\"background-color:yellow\"><span style=\"background-color:yellow\">Francesa</span></span></span>/<span style=\"background-color:yellow\"><span style=\"background-color:yellow\"><span style=\"background-color:yellow\"><span style=\"background-color:yellow\"><span style=\"background-color:yellow\">Espanhol</span>a</span></span></span></span>)- <span style=\"background-color:red\">Constanza Cárdenas</span> (Instrutora de <span style=\"background-color:yellow\">Pr</span><span style=\"background-color:blue\">ática da</span> <span style=\"background-color:blue\">L</span>íngua <span style=\"background-color:yellow\"><span style=\"background-color:yellow\"><span style=\"background-color:yellow\"><span style=\"background-color:yellow\"><span style=\"background-color:yellow\">Espanhol</span>a</span></span></span></span>)- Dr<span style=\"background-color:blue\">.</span> <span style=\"background-color:red\">Romanita Constantinescu</span> (<span style=\"background-color:yellow\">Pr</span>ofessor de <span style=\"background-color:yellow\">Rome</span><span style=\"background-color:green\">no</span> da Fundação)- Ricardo Cosea<span style=\"background-color:green\">no</span> (Assistente Acadêmico em <span style=\"background-color:yellow\">Pr</span><span style=\"background-color:blue\">ática da</span> <span style=\"background-color:blue\">L</span>íngua <span style=\"background-color:yellow\"><span style=\"background-color:yellow\"><span style=\"background-color:yellow\"><span style=\"background-color:yellow\"><span style=\"background-color:yellow\">Espanhol</span>a</span></span></span></span>)- <span style=\"background-color:yellow\">Pr</span>of<span style=\"background-color:blue\">.</span> Dr<span style=\"background-color:blue\">.</span> Elwys De <span style=\"background-color:blue\">S</span>tefani (Cadeira de <span style=\"background-color:blue\">L</span>inguística <span style=\"background-color:yellow\"><span style=\"background-color:yellow\">Italia</span>na</span>/<span style=\"background-color:yellow\"><span style=\"background-color:yellow\"><span style=\"background-color:yellow\">Francesa</span></span></span>)- <span style=\"background-color:red\">Brigitta</span> <span style=\"background-color:green\">Di</span>erkes (<span style=\"background-color:green\">Di</span>dática do <span style=\"background-color:yellow\">Espanhol</span>)- <span style=\"background-color:red\">Annachiara</span> <span style=\"background-color:green\">Di</span> <span style=\"background-color:red\">Taranto</span> (<span style=\"background-color:yellow\">Pr</span>ofessora de <span style=\"background-color:yellow\">Pr</span><span style=\"background-color:blue\">ática da</span> <span style=\"background-color:blue\">L</span>íngua <span style=\"background-color:yellow\"><span style=\"background-color:yellow\">Italia</span>na</span>)- <span style=\"background-color:red\">Agathe Duperron</span> (<span style=\"background-color:blue\">S</span>ecretária do <span style=\"background-color:yellow\">Pr</span>of<span style=\"background-color:blue\">.</span> Große)- <span style=\"background-color:red\">Madeleine Eppel</span> (Responsável pelo Catálogo de Cursos e Matrículas)- <span style=\"background-color:red\">José Esplá</span>-<span style=\"background-color:red\">Oliver</span> (Assistente Acadêmico em <span style=\"background-color:yellow\">Pr</span><span style=\"background-color:blue\">ática da</span> <span style=\"background-color:blue\">L</span>íngua <span style=\"background-color:yellow\"><span style=\"background-color:yellow\"><span style=\"background-color:yellow\"><span style=\"background-color:yellow\"><span style=\"background-color:yellow\">Espanhol</span>a</span></span></span></span>)- Dr<span style=\"background-color:blue\">.</span> <span style=\"background-color:red\">Carmela Fischer Díaz</span> (Instrutora de <span style=\"background-color:yellow\">Pr</span><span style=\"background-color:blue\">ática da</span> <span style=\"background-color:blue\">L</span>íngua <span style=\"background-color:yellow\"><span style=\"background-color:yellow\"><span style=\"background-color:yellow\"><span style=\"background-color:yellow\"><span style=\"background-color:yellow\">Espanhol</span>a</span></span></span></span>)- <span style=\"background-color:blue\">S</span>andrine Flores (Assistente Acadêmica em <span style=\"background-color:yellow\">Pr</span><span style=\"background-color:blue\">ática da</span> <span style=\"background-color:blue\">L</span>íngua <span style=\"background-color:yellow\"><span style=\"background-color:yellow\"><span style=\"background-color:yellow\">Francesa</span></span></span>)- <span style=\"background-color:yellow\">Pr</span>of<span style=\"background-color:blue\">.</span> Dr<span style=\"background-color:blue\">.</span> <span style=\"background-color:red\">Robert Folger</span> (Cadeira de <span style=\"background-color:blue\">L</span>iteratura <span style=\"background-color:yellow\"><span style=\"background-color:yellow\"><span style=\"background-color:yellow\"><span style=\"background-color:yellow\"><span style=\"background-color:yellow\">Espanhol</span>a</span></span></span></span>)Fico <span style=\"background-color:green\">no</span> aguardo da sua confirmação para prosseguir com os preparativos necessários<span style=\"background-color:blue\">.</span>Atenciosamente,<span style=\"background-color:blue\">L</span>i<span style=\"background-color:green\">no</span> <span style=\"background-color:blue\">S</span>ilva\n",
       "\n",
       "\n",
       "\n",
       "\n",
       "        <span style=\"background-color:blue\">S</span>icher versendet mit <span style=\"background-color:yellow\">Pr</span>oto<span style=\"background-color:blue\">n Mail</span><span style=\"background-color:blue\">.</span>\n",
       "    \n",
       "\n",
       "\n",
       "\n"
      ],
      "text/plain": [
       "<IPython.core.display.HTML object>"
      ]
     },
     "metadata": {},
     "output_type": "display_data"
    },
    {
     "name": "stdout",
     "output_type": "stream",
     "text": [
      "Parsing input file C:\\Users\\Felix\\Documents\\GitHub\\mailcom\\mailcom\\test\\data\\Re_ purismo.html\n"
     ]
    },
    {
     "data": {
      "text/html": [
       "From : aitana.garcia@zohomail.euTo : \"<span style=\"background-color:red\"><span style=\"background-color:red\">Alejandro Rodriguez</span></span>\"< alejandro.rodriguez1@gmx.net>Date : mié., 17 abr. 2024 17:24:41 +0200Subject : Re: purismoMuchas gracias!Sent using <span style=\"background-color:blue\">Zoho Mail----</span> El mié., 17 abr. 2024 17:22:49 +0200, <span style=\"background-color:red\"><span style=\"background-color:red\">Alejandro Rodriguez</span></span> <alejandro.rodriguez1@gmx.net> escribió ----Hola, aquí tienes el escaneo ;) Saludos, <span style=\"background-color:red\">Aitana</span>"
      ],
      "text/plain": [
       "<IPython.core.display.HTML object>"
      ]
     },
     "metadata": {},
     "output_type": "display_data"
    },
    {
     "name": "stdout",
     "output_type": "stream",
     "text": [
      "Parsing input file C:\\Users\\Felix\\Documents\\GitHub\\mailcom\\mailcom\\test\\data\\Re_ ¡Voy el 24!.html\n"
     ]
    },
    {
     "data": {
      "text/html": [
       "From : pierre.lefevre@myyahoo.comTo : \"<span style=\"background-color:red\"><span style=\"background-color:red\">Ale</span>jandro Rodriguez</span>\"< alejandro.rodriguez1@gmx.net>,\"<span style=\"background-color:red\"><span style=\"background-color:red\">Aitana</span></span> <span style=\"background-color:red\">Garcia</span>\"< aitana.garcia@zohomail.eu>Date : mié., 17 abr. 2024 17:33:23 +0200Subject : Re: ¡Voy el 24!\n",
       "Salut <span style=\"background-color:red\"><span style=\"background-color:red\">Aitana</span></span>,Merci beaucoup pour l'invitation ! Je suis ravi d'apprendre que je pourrai vous rejoindre pour la réunion du 24 à 15h. Cela sera une excellente occasion de rencontrer l'équipe et de discuter des projets en cours.N'hésite pas à me dire s'il y a des documents spécifiques que je devrais consulter avant la réunion ou si tu veux que je prépare quelque chose de particulier. Je suis tout à fait disposé à contribuer de manière constructive à notre discussion.À très bientôt et encore merci de m'avoir inclus.Bien cordialement,\r\n",
       "<span style=\"background-color:red\">Pierre</span>\n",
       "\n",
       "\n",
       "\r\n",
       "                        Am Mittwoch, 17. April 2024 um 17:31:14 <span style=\"background-color:yellow\">MESZ</span> hat <span style=\"background-color:red\"><span style=\"background-color:red\">Aitana</span></span> <span style=\"background-color:red\">Garcia</span> <aitana.garcia@zohomail.eu> Folgendes geschrieben:\r\n",
       "                    \n",
       "\n",
       "\n",
       "Ah, y me gustaría invitar a mi amigo <span style=\"background-color:red\">Pierre</span>, él está en el <span style=\"background-color:blue\">CCSent</span> using <span style=\"background-color:blue\"><span style=\"background-color:yellow\">Zoho Mail</span></span>---- El mié., 17 abr. 2024 17:27:12 +0200, <span style=\"background-color:red\"><span style=\"background-color:red\">Aitana</span></span> <span style=\"background-color:red\">Garcia</span> <aitana.garcia@zohomail.eu> escribió ----Hola <span style=\"background-color:red\">Ale</span>,¡Todo bien por aquí! Solo pasaba a decirte que contarás conmigo el 24 a las 3 en la ofi. ¿Hay algo que deba llevar o algún tema en particular que quieras que cheque antes?¡Nos vemos!\r\n",
       "<span style=\"background-color:red\"><span style=\"background-color:red\">Aitana</span></span>Sent using <span style=\"background-color:blue\"><span style=\"background-color:yellow\">Zoho Mail</span></span>\n",
       "\n"
      ],
      "text/plain": [
       "<IPython.core.display.HTML object>"
      ]
     },
     "metadata": {},
     "output_type": "display_data"
    }
   ],
   "source": [
    "# loop over mails and pseudonymize them\n",
    "out_list = []\n",
    "for file in io.email_list:\n",
    "    print(\"Parsing input file {}\".format(file))\n",
    "    text = io.get_text(file)\n",
    "    # after this function was called, the email metadata can be accessed via io.email_content\n",
    "    # the dict already has the entries content, date, attachments, attachment type\n",
    "    email_dict = io.email_content.copy()\n",
    "    html_text = io.get_html_text(text)\n",
    "    email_dict[\"html_text\"] = html_text\n",
    "    if not text:\n",
    "        continue\n",
    "    # Test functionality of Pseudonymize class\n",
    "    output_text = ps.pseudonymize(html_text)\n",
    "\n",
    "    # display original text and highlight found and replaced NEs\n",
    "    highlighted_html = highlight_ne(html_text, ps.per_list, ps.org_list, ps.loc_list, ps.misc_list)\n",
    "    display(HTML(highlighted_html))\n",
    "\n",
    "    # add pseudonymized text to dict\n",
    "    email_dict[\"pseudo_content\"] = output_text\n",
    "    out_list.append(email_dict)\n"
   ]
  },
  {
   "cell_type": "code",
   "execution_count": 23,
   "metadata": {},
   "outputs": [],
   "source": [
    "# write output to pandas df\n",
    "df = pd.DataFrame(out_list)"
   ]
  },
  {
   "cell_type": "code",
   "execution_count": 24,
   "metadata": {},
   "outputs": [
    {
     "name": "stdout",
     "output_type": "stream",
     "text": [
      "Email 0\n",
      "Original Text:\n",
      " J'espère que tu vas bien! Je voulais partager avec toi quelques photos de mon dernier voyage!\n",
      "[Inline-Bild]\n",
      "\n",
      "[Inline-Bild]\n",
      "\n",
      "À bientôt,\n",
      "\n",
      "Pierre\n",
      "\n",
      "Pseudonymized Text:\n",
      " J'espère que tu vas bien! Je voulais partager avec toi quelques photos de mon dernier voyage!\n",
      "[Inline-Bild]\n",
      "\n",
      "[Inline-Bild]\n",
      "\n",
      "À bientôt,\n",
      "\n",
      "Claude\n",
      "\n",
      "Email 1\n",
      "Original Text:\n",
      " \n",
      "Olá Lino,Espero que este e-mail te encontre bem. Agradeço a confirmação de sua presença na reunião do dia 24 de abril às 15:00 na InnovaTech Solutions.Com relação à confirmação dos demais membros da equipe, irei verificar a disponibilidade de cada um e te retorno o mais breve possível para que possamos organizar todos os detalhes necessários. A relevância dos temas a serem discutidos para cada área certamente contribuirá para uma sessão produtiva.Até breve,[Alejandro Rodriguez]\n",
      "InnovaTech Solutions S.L\n",
      "\n",
      "\n",
      "\n",
      "                        Am Mittwoch, 17. April 2024 um 17:30:19 MESZ hat lino.silva1 <lino.silva1@protonmail.com> Folgendes geschrieben:\n",
      "                    \n",
      "\n",
      "\n",
      "Espero que este e-mail o encontre bem. Escrevo para confirmar minha presença na reunião agendada para o dia 24 de abril, às 15:00, nas instalações da InnovaTech Solutions, localizada na Rua Principal, 123.Agradeceria se pudesse confirmar a participação das seguintes pessoas de nossa equipe, uma vez que os temas a serem discutidos são relevantes para suas respectivas áreas:- Alessandra Acquarone (Secretária Executiva)- Dr. Giulia Agostini (Literatura Francesa/Italiana/Espanhola)- Meggi Altrock (Secretária do Prof. Dr. De Stefani)- Felicia Augusto-Hönicke (Assistente Acadêmica em Prática de Língua Portuguesa)- Ronny Beckert (Assistente Acadêmico)- Dr. Gérald Béreiziat (Professor de Prática da Língua Francesa)- Dr. Stephanie Béreiziat-Lang (Substituição de Cadeira em Literatura Espanhola)- Ursula Bergerfurth (Didática do Italiano)- Maylis Bonetti (Professora de Prática da Língua Francesa)- Dr. Sarah Burnautzki (Professora Tenure-Track em Literatura Francesa/Espanhola)- Constanza Cárdenas (Instrutora de Prática da Língua Espanhola)- Dr. Romanita Constantinescu (Professor de Romeno da Fundação)- Ricardo Coseano (Assistente Acadêmico em Prática da Língua Espanhola)- Prof. Dr. Elwys De Stefani (Cadeira de Linguística Italiana/Francesa)- Brigitta Dierkes (Didática do Espanhol)- Annachiara Di Taranto (Professora de Prática da Língua Italiana)- Agathe Duperron (Secretária do Prof. Große)- Madeleine Eppel (Responsável pelo Catálogo de Cursos e Matrículas)- José Esplá-Oliver (Assistente Acadêmico em Prática da Língua Espanhola)- Dr. Carmela Fischer Díaz (Instrutora de Prática da Língua Espanhola)- Sandrine Flores (Assistente Acadêmica em Prática da Língua Francesa)- Prof. Dr. Robert Folger (Cadeira de Literatura Espanhola)Fico no aguardo da sua confirmação para prosseguir com os preparativos necessários.Atenciosamente,Lino Silva\n",
      "\n",
      "\n",
      "\n",
      "\n",
      "        Sicher versendet mit Proton Mail.\n",
      "    \n",
      "\n",
      "\n",
      "\n",
      "\n",
      "Pseudonymized Text:\n",
      " \n",
      " Olá Claude,Espero que este e-mail te encontre bem. Agradeço a confirmação de sua presença na reunião do dia [number] de abril às [number]:[number] na [organization] Solutions . Com relação à confirmação dos demais membros da equipe, irei verificar a disponibilidade de cada um e te retorno o mais breve possível para que possamos organizar todos os detalhes necessários. A relevância dos temas a serem discutidos para cada área certamente contribuirá para uma sessão produtiva. Até breve,Dominique Claude ]\n",
      "[organization] Solutions [organization].[organization]\n",
      "\n",
      "\n",
      "\n",
      "                         Am Mittwoch, [number]. April [number] um [number]:[number]:[number] [misc] hat Camille [email] Folgendes geschrieben:\n",
      "                    \n",
      "\n",
      "\n",
      "Espero que este e-mail o encontre bem. Escrevo para confirmar minha presença na reunião agendada para o dia [number] de abril, às [number]:[number], nas instalações da [organization] Solutions , localizada na [location] , [number].Agradeceria se pudesse confirmar a participação das seguintes pessoas de nossa equipe, uma vez que os temas a serem discutidos são relevantes para suas respectivas áreas:- Charlie (Secretária Executiva)- Dr. Florence (Literatura [misc]/[misc]/[misc])- [organization] Francis (Secretária do Prof. Dr. Maxime)- Remy (Assistente Acadêmica em Prática de [misc])- Cécile ( Assistente Acadêmico)- Dr. Claude ([misc]ofessor de [misc][organization] [misc])- DrClaude - Lang ( Substituição de Cadeira em Literatura [misc])- Claude (Didática do [misc]no)- Claude (Professora de Prática da Língua [misc])- Dr. Claude (Professora Tenure-Track em Literatura [misc])- Claude (Instrutora de Prática da Língua [misc])- Dr. Claude (Professor de [misc][location] da Fundação)- Ricardo Cosea[location] (Assistente Acadêmico em Prática da Língua [misc])- Prof. Dr[organization] Elwys Maxime ([organization])- Claude Claude (Didática do [misc])- Claude [location] Claude (Professora de Prática da Língua [misc])- Claude (Secretária do Prof. Große)- Claude (Responsável pelo Catálogo de Cursos e Matrículas)- Claude -Claude ( Assistente Acadêmico em Prática da Língua [misc])- Dr. Claude (Instrutora de Prática da Língua [misc])- Claude (Assistente Acadêmica em Prática da Língua [misc])- Prof . Dr. Claude ([organization])Fico no aguardo da sua confirmação para prosseguir com os preparativos necessários. Atenciosamente,Claude Silva\n",
      "\n",
      "\n",
      "\n",
      "\n",
      "        Sicher versendet mit [misc][organization].\n",
      "    \n",
      "\n",
      "\n",
      "\n",
      "\n",
      "Email 2\n",
      "Original Text:\n",
      " From : aitana.garcia@zohomail.euTo : \"Alejandro Rodriguez\"< alejandro.rodriguez1@gmx.net>Date : mié., 17 abr. 2024 17:24:41 +0200Subject : Re: purismoMuchas gracias!Sent using Zoho Mail---- El mié., 17 abr. 2024 17:22:49 +0200, Alejandro Rodriguez <alejandro.rodriguez1@gmx.net> escribió ----Hola, aquí tienes el escaneo ;) Saludos, Aitana\n",
      "Pseudonymized Text:\n",
      " From : [email] : \"Claude\"< [email] : mié. , [number] abr. [number] [number]:[number]:[number] +[number]Subject : Re: purismoMuchas gracias!Sent using [organization] El mié. , [number] abr. [number] [number]:[number]:[number] +[number], Claude [email] escribió ----Hola, aquí tienes el escaneo ;) Saludos, Dominique\n",
      "Email 3\n",
      "Original Text:\n",
      " From : pierre.lefevre@myyahoo.comTo : \"Alejandro Rodriguez\"< alejandro.rodriguez1@gmx.net>,\"Aitana Garcia\"< aitana.garcia@zohomail.eu>Date : mié., 17 abr. 2024 17:33:23 +0200Subject : Re: ¡Voy el 24!\n",
      "Salut Aitana,Merci beaucoup pour l'invitation ! Je suis ravi d'apprendre que je pourrai vous rejoindre pour la réunion du 24 à 15h. Cela sera une excellente occasion de rencontrer l'équipe et de discuter des projets en cours.N'hésite pas à me dire s'il y a des documents spécifiques que je devrais consulter avant la réunion ou si tu veux que je prépare quelque chose de particulier. Je suis tout à fait disposé à contribuer de manière constructive à notre discussion.À très bientôt et encore merci de m'avoir inclus.Bien cordialement,\n",
      "Pierre\n",
      "\n",
      "\n",
      "\n",
      "                        Am Mittwoch, 17. April 2024 um 17:31:14 MESZ hat Aitana Garcia <aitana.garcia@zohomail.eu> Folgendes geschrieben:\n",
      "                    \n",
      "\n",
      "\n",
      "Ah, y me gustaría invitar a mi amigo Pierre, él está en el CCSent using Zoho Mail---- El mié., 17 abr. 2024 17:27:12 +0200, Aitana Garcia <aitana.garcia@zohomail.eu> escribió ----Hola Ale,¡Todo bien por aquí! Solo pasaba a decirte que contarás conmigo el 24 a las 3 en la ofi. ¿Hay algo que deba llevar o algún tema en particular que quieras que cheque antes?¡Nos vemos!\n",
      "AitanaSent using Zoho Mail\n",
      "\n",
      "\n",
      "Pseudonymized Text:\n",
      " From : [email] : \" Claude\"< [email] Dominique\"< [email] >Date : mié. , [number] abr. [number] [number]:[number]:[number] +[number]Subject : Re: ¡Voy el [number]!\n",
      "Salut Claude,Merci beaucoup pour l'invitation ! Je suis ravi d'apprendre que je pourrai vous rejoindre pour la réunion du [number] à [number]h. Cela sera une excellente occasion de rencontrer l'équipe et de discuter des projets en cours. N'hésite pas à me dire s'il y a des documents spécifiques que je devrais consulter avant la réunion ou si tu veux que je prépare quelque chose de particulier. Je suis tout à fait disposé à contribuer de manière constructive à notre discussion. À très bientôt et encore merci de m'avoir inclus. Bien cordialement,\n",
      "Pierre\n",
      "\n",
      "\n",
      "\n",
      "                        Am Mittwoch, [number] . April [number] um [number]:[number]:[number] [misc] hat Claude Dominique [email] > Folgendes geschrieben:\n",
      "                    \n",
      "\n",
      "\n",
      "Ah, y me gustaría invitar a mi amigo Florence, él está en el [organization] using [misc]---- El mié. , [number] abr. [number] [number]:[number]:[number] +[number], Claude Dominique [email] escribió ----Hola Francis,¡Todo bien por aquí! Solo pasaba a decirte que contarás conmigo el [number] a las [number] en la ofi. ¿ Hay algo que deba llevar o algún tema en particular que quieras que cheque antes?¡Nos vemos!\n",
      "ClaudeSent using [organization]\n",
      "\n",
      "\n"
     ]
    }
   ],
   "source": [
    "# print results\n",
    "for idx, mail in df.iterrows():\n",
    "    print(\"Email\", idx)\n",
    "    print(\"Original Text:\\n\", mail[\"html_text\"])\n",
    "    print(\"Pseudonymized Text:\\n\", mail[\"pseudo_content\"])\t"
   ]
  },
  {
   "cell_type": "code",
   "execution_count": null,
   "metadata": {},
   "outputs": [],
   "source": []
  }
 ],
 "metadata": {
  "kernelspec": {
   "display_name": "mailcom",
   "language": "python",
   "name": "python3"
  },
  "language_info": {
   "codemirror_mode": {
    "name": "ipython",
    "version": 3
   },
   "file_extension": ".py",
   "mimetype": "text/x-python",
   "name": "python",
   "nbconvert_exporter": "python",
   "pygments_lexer": "ipython3",
   "version": "3.11.10"
  }
 },
 "nbformat": 4,
 "nbformat_minor": 2
}
