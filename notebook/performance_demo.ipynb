{
 "cells": [
  {
   "cell_type": "code",
   "execution_count": 1,
   "metadata": {},
   "outputs": [
    {
     "name": "stderr",
     "output_type": "stream",
     "text": [
      "c:\\Users\\Felix\\miniconda3\\envs\\mailcom\\Lib\\site-packages\\tqdm\\auto.py:21: TqdmWarning: IProgress not found. Please update jupyter and ipywidgets. See https://ipywidgets.readthedocs.io/en/stable/user_install.html\n",
      "  from .autonotebook import tqdm as notebook_tqdm\n"
     ]
    }
   ],
   "source": [
    "import mailcom.inout\n",
    "import mailcom.parse\n",
    "import pandas as pd\n",
    "import time\n",
    "import datetime"
   ]
  },
  {
   "cell_type": "code",
   "execution_count": 2,
   "metadata": {},
   "outputs": [],
   "source": [
    "# create t0 timestamp\n",
    "t0 = time.time()"
   ]
  },
  {
   "cell_type": "code",
   "execution_count": 3,
   "metadata": {},
   "outputs": [
    {
     "name": "stdout",
     "output_type": "stream",
     "text": [
      "     Unnamed: 0                                            message\n",
      "0           242  Von meinem iPhone gesendet Anfang der weiterge...\n",
      "1           243  Von meinem iPhone gesendet Anfang der weiterge...\n",
      "2           244  Von meinem iPhone gesendet Anfang der weiterge...\n",
      "3           245  Von meinem iPhone gesendet Anfang der weiterge...\n",
      "4           246  Von meinem iPhone gesendet Anfang der weiterge...\n",
      "..          ...                                                ...\n",
      "98         1313  \\nVon: Mélissa des Presses de l'Université Lav...\n",
      "99         1314  Von: Librairie Classiques Garnier &amp;lt;libr...\n",
      "100        1315  La langue s'enrichit #36 - FranceTerme\\nProf. ...\n",
      "101        1316  Activités de juin - Presses de l'Université La...\n",
      "102        1317  Nouveautés de juin\\nProf. Dr. Sybille Große I ...\n",
      "\n",
      "[103 rows x 2 columns]\n"
     ]
    },
    {
     "name": "stderr",
     "output_type": "stream",
     "text": [
      "Some weights of the model checkpoint at xlm-roberta-large-finetuned-conll03-english were not used when initializing XLMRobertaForTokenClassification: ['roberta.pooler.dense.bias', 'roberta.pooler.dense.weight']\n",
      "- This IS expected if you are initializing XLMRobertaForTokenClassification from the checkpoint of a model trained on another task or with another architecture (e.g. initializing a BertForSequenceClassification model from a BertForPreTraining model).\n",
      "- This IS NOT expected if you are initializing XLMRobertaForTokenClassification from the checkpoint of a model that you expect to be exactly identical (initializing a BertForSequenceClassification model from a BertForSequenceClassification model).\n"
     ]
    }
   ],
   "source": [
    "# import files from csv file\n",
    "email_list = pd.read_csv(\"../mailcom/test/data/mails_lb_sg.csv\")\n",
    "print(email_list)\n",
    "\n",
    "# create pseudonymization object\n",
    "ps = mailcom.parse.Pseudonymize()\n",
    "ps.init_spacy(\"fr\")\n",
    "ps.init_transformers()\n",
    "# time stamp after model loading\n",
    "t_model_loaded = time.time()"
   ]
  },
  {
   "cell_type": "code",
   "execution_count": 4,
   "metadata": {},
   "outputs": [],
   "source": [
    "# loop over mails and pseudonymize them\n",
    "out_list = []\n",
    "ts_list = []\n",
    "for idx, row in email_list.iterrows():\n",
    "    text = row[\"message\"]\n",
    "    email_dict = {\"content\": text}\n",
    "    if not text:\n",
    "        continue\n",
    "    # Test functionality of Pseudonymize class\n",
    "    output_text = ps.pseudonymize(text)\n",
    "    email_dict[\"pseudo_content\"] = output_text\n",
    "    out_list.append(email_dict)\n",
    "\n",
    "    # timestamp after this email\n",
    "    ts_list.append(time.time())"
   ]
  },
  {
   "cell_type": "code",
   "execution_count": 5,
   "metadata": {},
   "outputs": [
    {
     "name": "stdout",
     "output_type": "stream",
     "text": [
      "                                               content  \\\n",
      "0    Von meinem iPhone gesendet Anfang der weiterge...   \n",
      "1    Von meinem iPhone gesendet Anfang der weiterge...   \n",
      "2    Von meinem iPhone gesendet Anfang der weiterge...   \n",
      "3    Von meinem iPhone gesendet Anfang der weiterge...   \n",
      "4    Von meinem iPhone gesendet Anfang der weiterge...   \n",
      "..                                                 ...   \n",
      "98   \\nVon: Mélissa des Presses de l'Université Lav...   \n",
      "99   Von: Librairie Classiques Garnier &amp;lt;libr...   \n",
      "100  La langue s'enrichit #36 - FranceTerme\\nProf. ...   \n",
      "101  Activités de juin - Presses de l'Université La...   \n",
      "102  Nouveautés de juin\\nProf. Dr. Sybille Große I ...   \n",
      "\n",
      "                                        pseudo_content  \n",
      "0    Von meinem [misc] gesendet Anfang der weiterge...  \n",
      "1    Von meinem [misc] gesendet Anfang der weiterge...  \n",
      "2    Von meinem [misc] gesendet Anfang der weiterge...  \n",
      "3    Von meinem [misc] gesendet Anfang der weiterge...  \n",
      "4    Von meinem [misc] gesendet Anfang der weiterge...  \n",
      "..                                                 ...  \n",
      "98   \\n Von: Claude [organization] [email] Mittwoch...  \n",
      "99   Von: [misc]i[misc] Claude [email] -[organizati...  \n",
      "100  La langue s'enrichit #[number] - [organization...  \n",
      "101  Activités de juin - Presses de l'[organization...  \n",
      "102  Nouveautés de juin\\nProf. Dr. Claude I [misc] ...  \n",
      "\n",
      "[103 rows x 2 columns]\n"
     ]
    }
   ],
   "source": [
    "# write output to pandas df\n",
    "df = pd.DataFrame(out_list)\n",
    "print(df)"
   ]
  },
  {
   "cell_type": "code",
   "execution_count": 13,
   "metadata": {},
   "outputs": [
    {
     "name": "stdout",
     "output_type": "stream",
     "text": [
      "Time from start to model loaded: 08 s\n",
      "Time needed for email 0 : 06 s\n",
      "Time needed for email 1 : 08 s\n",
      "Time needed for email 2 : 05 s\n",
      "Time needed for email 3 : 09 s\n",
      "Time needed for email 4 : 06 s\n",
      "Time needed for email 5 : 13 s\n",
      "Time needed for email 6 : 08 s\n",
      "Time needed for email 7 : 06 s\n",
      "Time needed for email 8 : 14 s\n",
      "Time needed for email 9 : 08 s\n",
      "Time needed for email 10 : 09 s\n",
      "Time needed for email 11 : 09 s\n",
      "Time needed for email 12 : 12 s\n",
      "Time needed for email 13 : 11 s\n",
      "Time needed for email 14 : 08 s\n",
      "Time needed for email 15 : 03 s\n",
      "Time needed for email 16 : 01 s\n",
      "Time needed for email 17 : 18 s\n",
      "Time needed for email 18 : 07 s\n",
      "Time needed for email 19 : 03 s\n",
      "Time needed for email 20 : 27 s\n",
      "Time needed for email 21 : 05 s\n",
      "Time needed for email 22 : 04 s\n",
      "Time needed for email 23 : 07 s\n",
      "Time needed for email 24 : 05 s\n",
      "Time needed for email 25 : 05 s\n",
      "Time needed for email 26 : 05 s\n",
      "Time needed for email 27 : 01 s\n",
      "Time needed for email 28 : 03 s\n",
      "Time needed for email 29 : 04 s\n",
      "Time needed for email 30 : 04 s\n",
      "Time needed for email 31 : 03 s\n",
      "Time needed for email 32 : 12 s\n",
      "Time needed for email 33 : 06 s\n",
      "Time needed for email 34 : 14 s\n",
      "Time needed for email 35 : 09 s\n",
      "Time needed for email 36 : 07 s\n",
      "Time needed for email 37 : 07 s\n",
      "Time needed for email 38 : 14 s\n",
      "Time needed for email 39 : 04 s\n",
      "Time needed for email 40 : 14 s\n",
      "Time needed for email 41 : 04 s\n",
      "Time needed for email 42 : 08 s\n",
      "Time needed for email 43 : 14 s\n",
      "Time needed for email 44 : 06 s\n",
      "Time needed for email 45 : 17 s\n",
      "Time needed for email 46 : 14 s\n",
      "Time needed for email 47 : 11 s\n",
      "Time needed for email 48 : 09 s\n",
      "Time needed for email 49 : 12 s\n",
      "Time needed for email 50 : 15 s\n",
      "Time needed for email 51 : 08 s\n",
      "Time needed for email 52 : 15 s\n",
      "Time needed for email 53 : 16 s\n",
      "Time needed for email 54 : 49 s\n",
      "Time needed for email 55 : 05 s\n",
      "Time needed for email 56 : 06 s\n",
      "Time needed for email 57 : 05 s\n",
      "Time needed for email 58 : 07 s\n",
      "Time needed for email 59 : 20 s\n",
      "Time needed for email 60 : 12 s\n",
      "Time needed for email 61 : 32 s\n",
      "Time needed for email 62 : 11 s\n",
      "Time needed for email 63 : 16 s\n",
      "Time needed for email 64 : 12 s\n",
      "Time needed for email 65 : 12 s\n",
      "Time needed for email 66 : 13 s\n",
      "Time needed for email 67 : 14 s\n",
      "Time needed for email 68 : 05 s\n",
      "Time needed for email 69 : 05 s\n",
      "Time needed for email 70 : 24 s\n",
      "Time needed for email 71 : 07 s\n",
      "Time needed for email 72 : 21 s\n",
      "Time needed for email 73 : 22 s\n",
      "Time needed for email 74 : 21 s\n",
      "Time needed for email 75 : 22 s\n",
      "Time needed for email 76 : 08 s\n",
      "Time needed for email 77 : 06 s\n",
      "Time needed for email 78 : 24 s\n",
      "Time needed for email 79 : 08 s\n",
      "Time needed for email 80 : 35 s\n",
      "Time needed for email 81 : 29 s\n",
      "Time needed for email 82 : 39 s\n",
      "Time needed for email 83 : 37 s\n",
      "Time needed for email 84 : 36 s\n",
      "Time needed for email 85 : 02 s\n",
      "Time needed for email 86 : 47 s\n",
      "Time needed for email 87 : 05 s\n",
      "Time needed for email 88 : 45 s\n",
      "Time needed for email 89 : 53 s\n",
      "Time needed for email 90 : 08 s\n",
      "Time needed for email 91 : 19 s\n",
      "Time needed for email 92 : 14 s\n",
      "Time needed for email 93 : 06 s\n",
      "Time needed for email 94 : 28 s\n",
      "Time needed for email 95 : 30 s\n",
      "Time needed for email 96 : 30 s\n",
      "Time needed for email 97 : 15 s\n",
      "Time needed for email 98 : 18 s\n",
      "Time needed for email 99 : 09 s\n",
      "Time needed for email 100 : 21 s\n",
      "Time needed for email 101 : 10 s\n",
      "Time needed for email 102 : 13 s\n",
      "Total time: 27:21\n"
     ]
    }
   ],
   "source": [
    "# print timestamps\n",
    "print(\"Time from start to model loaded:\", (datetime.datetime.fromtimestamp(t_model_loaded - t0).strftime('%S')), \"s\")\n",
    "# time differences between emails\n",
    "ts_diffs = []\n",
    "for i in range(0, len(ts_list)):\n",
    "    if i == 0:\n",
    "        ts_diff = (ts_list[i] - t_model_loaded)\n",
    "    else:\n",
    "        ts_diff = (ts_list[i] - ts_list[i-1])\n",
    "    ts_diffs.append(ts_diff)\n",
    "    print(\"Time needed for email\", i, \":\", (datetime.datetime.fromtimestamp(ts_diff).strftime('%S')), \"s\")\n",
    "print(\"Total time:\", (datetime.datetime.fromtimestamp(ts_list[len(ts_list)-1] - t_model_loaded).strftime('%M:%S')))"
   ]
  },
  {
   "cell_type": "code",
   "execution_count": null,
   "metadata": {},
   "outputs": [],
   "source": []
  }
 ],
 "metadata": {
  "kernelspec": {
   "display_name": "mailcom",
   "language": "python",
   "name": "python3"
  },
  "language_info": {
   "codemirror_mode": {
    "name": "ipython",
    "version": 3
   },
   "file_extension": ".py",
   "mimetype": "text/x-python",
   "name": "python",
   "nbconvert_exporter": "python",
   "pygments_lexer": "ipython3",
   "version": "3.11.10"
  }
 },
 "nbformat": 4,
 "nbformat_minor": 2
}
