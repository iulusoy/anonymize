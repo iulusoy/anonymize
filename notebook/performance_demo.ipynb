{
 "cells": [
  {
   "cell_type": "code",
   "execution_count": null,
   "metadata": {},
   "outputs": [],
   "source": [
    "import mailcom.inout\n",
    "import mailcom.parse\n",
    "import pandas as pd\n",
    "import time\n",
    "import datetime"
   ]
  },
  {
   "cell_type": "code",
   "execution_count": null,
   "metadata": {},
   "outputs": [],
   "source": [
    "# create t0 timestamp\n",
    "t0 = time.time()"
   ]
  },
  {
   "cell_type": "code",
   "execution_count": null,
   "metadata": {},
   "outputs": [],
   "source": [
    "# import files from csv file\n",
    "email_list = pd.read_csv(\"../mailcom/test/data/mails_lb_sg.csv\")\n",
    "print(email_list)\n",
    "\n",
    "# create pseudonymization object\n",
    "ps = mailcom.parse.Pseudonymize()\n",
    "ps.init_spacy(\"fr\")\n",
    "ps.init_transformers()\n",
    "# time stamp after model loading\n",
    "t_model_loaded = time.time()"
   ]
  },
  {
   "cell_type": "code",
   "execution_count": null,
   "metadata": {},
   "outputs": [],
   "source": [
    "# loop over mails and pseudonymize them\n",
    "out_list = []\n",
    "ts_list = []\n",
    "for idx, row in email_list.iterrows():\n",
    "    text = row[\"message\"]\n",
    "    email_dict = {\"content\": text}\n",
    "    if not text:\n",
    "        continue\n",
    "    # Test functionality of Pseudonymize class\n",
    "    output_text = ps.pseudonymize(text)\n",
    "    email_dict[\"pseudo_content\"] = output_text\n",
    "    out_list.append(email_dict)\n",
    "\n",
    "    # timestamp after this email\n",
    "    ts_list.append(time.time())"
   ]
  },
  {
   "cell_type": "code",
   "execution_count": null,
   "metadata": {},
   "outputs": [],
   "source": [
    "# write output to pandas df\n",
    "df = pd.DataFrame(out_list)\n",
    "print(df)"
   ]
  },
  {
   "cell_type": "code",
   "execution_count": null,
   "metadata": {},
   "outputs": [],
   "source": [
    "# print timestamps\n",
    "print(\"Time from start to model loaded:\", (datetime.datetime.fromtimestamp(t_model_loaded - t0).strftime('%S')), \"s\")\n",
    "# time differences between emails\n",
    "ts_diffs = []\n",
    "for i in range(0, len(ts_list)):\n",
    "    if i == 0:\n",
    "        ts_diff = (ts_list[i] - t_model_loaded)\n",
    "    else:\n",
    "        ts_diff = (ts_list[i] - ts_list[i-1])\n",
    "    ts_diffs.append(ts_diff)\n",
    "    print(\"Time needed for email\", i, \":\", (datetime.datetime.fromtimestamp(ts_diff).strftime('%S')), \"s\")\n",
    "print(\"Total time:\", (datetime.datetime.fromtimestamp(ts_list[len(ts_list)-1] - t_model_loaded).strftime('%M:%S')))"
   ]
  },
  {
   "cell_type": "code",
   "execution_count": null,
   "metadata": {},
   "outputs": [],
   "source": []
  }
 ],
 "metadata": {
  "kernelspec": {
   "display_name": "mailcom",
   "language": "python",
   "name": "python3"
  },
  "language_info": {
   "codemirror_mode": {
    "name": "ipython",
    "version": 3
   },
   "file_extension": ".py",
   "mimetype": "text/x-python",
   "name": "python",
   "nbconvert_exporter": "python",
   "pygments_lexer": "ipython3",
   "version": "3.11.10"
  }
 },
 "nbformat": 4,
 "nbformat_minor": 2
}
